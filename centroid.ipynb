{
 "cells": [
  {
   "cell_type": "code",
   "execution_count": 67,
   "id": "831af2b5",
   "metadata": {},
   "outputs": [],
   "source": [
    "import numpy as np\n",
    "import pandas as pd\n",
    "from numpy import sqrt,arctan,arccos,arcsin,sin,cos,tan,mod,pi,mean\n",
    "\n",
    "#Conversion of Degree <--> Radians\n",
    "def deg2rad(x):\n",
    "    return x*pi/180\n",
    "def rad2deg(x):\n",
    "    return x*180/pi\n",
    "\n",
    "# Change from spherical to cartesian coordinate\n",
    "def get_cart(lon,lat,r=1):\n",
    "    phi = pi/2.-deg2rad(float(lat))\n",
    "    theta = deg2rad(float(lon))\n",
    "    x = r*sin(phi)*cos(theta)\n",
    "    y = r*sin(phi)*sin(theta)\n",
    "    z = r*cos(phi)\n",
    "    return (x,y,z)\n",
    "\n",
    "# Change from cartisan to spherical coordinate\n",
    "def get_sph(x,y,z):\n",
    "    r = sqrt(x*x+y*y+z*z)\n",
    "    phi = arccos(z/r)\n",
    "    theta = arcsin(y/r/sin(phi))\n",
    "    lon = rad2deg(theta)\n",
    "    lon = 180-lon\n",
    "    lat = rad2deg(pi/2.-phi)\n",
    "    if lat > 90.:\n",
    "        lat = lat-180.\n",
    "    return (r,lon,lat)\n",
    "\n",
    "# Calculate centeriod of data points in spherical coordinate\n",
    "# arr is pandas data frame\n",
    "def get_centeroid(arr):\n",
    "    npts = 0.\n",
    "    xc,yc,zc = 0.,0.,0.\n",
    "    for i in range(0,len(arr)):\n",
    "        cart = get_cart(arr[\"lon\"][i],arr['lat'][i],r=arr['r'][i])\n",
    "        xc += cart[0]\n",
    "        yc += cart[1]\n",
    "        zc += cart[2]\n",
    "        npts+=1\n",
    "    out = get_sph(xc/npts,yc/npts,zc/npts)\n",
    "    C = pd.DataFrame.from_dict([{\"lon\":out[1],\"lat\":out[2],\"r\":out[0]}])\n",
    "    return C\n",
    "\n",
    "# Calculate Angular seperation\n",
    "def get_ang_sep(P1,P2):\n",
    "    (x1,y1,z1) = get_cart(P1[\"lon\"],P1[\"lat\"],P1[\"r\"])\n",
    "    (x2,y2,z2) = get_cart(P2[\"lon\"],P2[\"lat\"],P2[\"r\"])\n",
    "    angle = (x1*x2+y1*y2+z1*z2)/sqrt(x1**2+y1**2+z1**2)/sqrt(x2**2+y2**2+z2**2)\n",
    "    angle = arccos(angle)\n",
    "    return rad2deg(angle)\n",
    "\n",
    "# Make pandas data frame of coordinates\n",
    "def stx2pandas(coords):\n",
    "    arr = pd.DataFrame.from_dict(coords)\n",
    "    return arr\n",
    "\n",
    "# Wrapper program\n",
    "def calculate_centeroid(coords,min_fov=5):\n",
    "\n",
    "    for i in range(len(coords[\"lat\"])):\n",
    "        lat = coords[\"lat\"][i]\n",
    "        if lat < -90. or lat >+90.:\n",
    "            raise Exception(\"Range Error. -90 <= Latitude <= +90\")\n",
    "\n",
    "    try:\n",
    "        coords[\"r\"]\n",
    "    except:\n",
    "        coords[\"r\"]=[1. for i in range(len(coords[\"lat\"]))]\n",
    "    arr = stx2pandas(coords)\n",
    "    cent = get_centeroid(arr)\n",
    "    df = arr.copy().reset_index()\n",
    "    df[\"dist\"]=[0. for i in range(len(coords[\"lat\"]))]\n",
    "    \n",
    "    for i in range(len(df)):\n",
    "        P = df.iloc[[i]].copy().reset_index()\n",
    "        dist = get_ang_sep(P,cent)\n",
    "        df.loc[[i],\"dist\"] = [dist]\n",
    "    \n",
    "    max_dist = max(df.dist)\n",
    "    dist_round = min_fov*round(max_dist/min_fov)\n",
    "    if dist_round < max_dist:\n",
    "        dist_round+=min_fov\n",
    "        \n",
    "    out = {\"lon\": cent[\"lon\"],\n",
    "           \"lat\":cent[\"lat\"],\n",
    "           \"fov\":[dist_round]}\n",
    "    out = pd.DataFrame.from_dict(out)\n",
    "    result = {\"coords\":arr,\"centroid\":out}\n",
    "    \n",
    "    \n",
    "    return result"
   ]
  },
  {
   "cell_type": "code",
   "execution_count": 68,
   "id": "2bbb0c99",
   "metadata": {},
   "outputs": [
    {
     "name": "stdout",
     "output_type": "stream",
     "text": [
      "     lon   lat    r\n",
      "0  248.0 -49.2  1.0\n",
      "1  235.2 -49.1  1.0\n",
      "2  240.0 -48.6  1.0\n",
      "3  257.1 -48.4  1.0\n",
      "4  237.4 -48.2  1.0\n",
      "5  266.2 -44.4  1.0\n",
      "6  261.3 -40.2  1.0\n",
      "         lon        lat  fov\n",
      "0  249.76462 -47.455927   12\n"
     ]
    }
   ],
   "source": [
    "gal = {\"lon\":[248,235.2,240,257.1,237.4,266.2,261.3],\n",
    "       \"lat\":[-49.2,-49.1,-48.6,-48.4,-48.2,-44.4,-40.2],\n",
    "       }\n",
    "out = calculate_centeroid(gal,3)\n",
    "print(out[\"coords\"])\n",
    "print(out[\"centroid\"])"
   ]
  },
  {
   "cell_type": "code",
   "execution_count": 69,
   "id": "df39ad01",
   "metadata": {},
   "outputs": [
    {
     "name": "stdout",
     "output_type": "stream",
     "text": [
      "     lon   lat    r\n",
      "0  152.0  52.0  1.0\n",
      "1  152.7  53.0  1.0\n",
      "          lon        lat  fov\n",
      "0  152.346019  52.500516    3\n"
     ]
    }
   ],
   "source": [
    "gal = {\"lon\":[152.0,152.7],\n",
    "       \"lat\":[52.,53.],\n",
    "       }\n",
    "out = calculate_centeroid(gal,3)\n",
    "print(out[\"coords\"])\n",
    "print(out[\"centroid\"])"
   ]
  },
  {
   "cell_type": "code",
   "execution_count": null,
   "id": "66b97978",
   "metadata": {},
   "outputs": [],
   "source": []
  }
 ],
 "metadata": {
  "kernelspec": {
   "display_name": "Python 3 (ipykernel)",
   "language": "python",
   "name": "python3"
  },
  "language_info": {
   "codemirror_mode": {
    "name": "ipython",
    "version": 3
   },
   "file_extension": ".py",
   "mimetype": "text/x-python",
   "name": "python",
   "nbconvert_exporter": "python",
   "pygments_lexer": "ipython3",
   "version": "3.10.7"
  }
 },
 "nbformat": 4,
 "nbformat_minor": 5
}

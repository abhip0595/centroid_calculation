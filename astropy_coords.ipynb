{
 "cells": [
  {
   "cell_type": "code",
   "execution_count": 1,
   "id": "6b4be9b4",
   "metadata": {},
   "outputs": [],
   "source": [
    "import numpy as np\n",
    "import pandas as pd\n",
    "import matplotlib as mpt\n",
    "import warnings\n",
    "warnings.simplefilter('ignore')"
   ]
  },
  {
   "cell_type": "code",
   "execution_count": 2,
   "id": "2bfa7de9",
   "metadata": {},
   "outputs": [],
   "source": [
    "from astropy import units as u\n",
    "from astropy.wcs import WCS\n",
    "from astropy.coordinates import SkyCoord\n",
    "from astropy.io import fits"
   ]
  },
  {
   "cell_type": "code",
   "execution_count": 3,
   "id": "47386b4e",
   "metadata": {},
   "outputs": [],
   "source": [
    "def get_center_in_ait(coord):\n",
    "    #create wcs\n",
    "    #resolution 1\"/pixel\n",
    "    cdelt = 1./60./60.\n",
    "    nx = np.round(360./cdelt)\n",
    "    ny = np.round(180./cdelt)\n",
    "    w = WCS(naxis=2)\n",
    "    w.wcs.crpix = [float(nx/2.), float(ny/2.)]\n",
    "    w.wcs.cdelt = np.array([-cdelt,cdelt])\n",
    "    w.wcs.crval = [0., 0.]\n",
    "    w.wcs.ctype = [\"GLON-AIT\", \"GLAT-AIT\"]\n",
    "    w.array_shape = [nx,ny]\n",
    "    px, py = w.wcs_world2pix(coord.l,coord.b, 1)\n",
    "    cx,cy = np.mean(px),np.mean(py)\n",
    "    c = w.wcs_pix2world(cx,cy, 1)\n",
    "    \n",
    "    return c"
   ]
  },
  {
   "cell_type": "code",
   "execution_count": 4,
   "id": "a0eb1f1a",
   "metadata": {},
   "outputs": [],
   "source": [
    "def get_center_in_car(coord,cent):\n",
    "    #create wcs\n",
    "    #resolution 1\"/pixel\n",
    "    cdelt = 1./60./60./60.\n",
    "    nx = np.round(360./cdelt)\n",
    "    ny = np.round(180./cdelt)\n",
    "    w = WCS(naxis=2)\n",
    "    w.wcs.crpix = [float(nx/2.), float(ny/2.)]\n",
    "    w.wcs.cdelt = np.array([-cdelt,cdelt])\n",
    "    w.wcs.crval = [cent[0], cent[1]]\n",
    "    w.wcs.ctype = [\"GLON-CAR\", \"GLAT-CAR\"]\n",
    "    w.array_shape = [nx,ny]\n",
    "    px, py = w.wcs_world2pix(coord.l,coord.b, 1)\n",
    "    cx,cy = np.mean(px),np.mean(py)\n",
    "    c = w.wcs_pix2world(cx,cy, 1)\n",
    "    \n",
    "    return c\n",
    "\n",
    "def get_centroid(coord,frame=\"galactic\",equinox=\"J2000\",unit=u.deg,max_itr=5):\n",
    "    cent = get_center_in_ait(wcoord)\n",
    "    for i in range(max_itr):\n",
    "        cent = get_center_in_car(wcoord,cent)\n",
    "        \n",
    "    cent = SkyCoord(cent[0],cent[1],unit=unit,frame=frame,equinox=equinox)\n",
    "    return cent\n",
    "\n",
    "def ang_sep(coord,cent):\n",
    "    sep_data = {\"lon\":[],\"lat\":[],\"sep\":[]}\n",
    "    for i in range(len(coord)):\n",
    "        sep_data[\"lon\"].append(coord.l[i])\n",
    "        sep_data[\"lat\"].append(coord.b[i])\n",
    "        sep_data[\"sep\"].append(coord[i].separation(cent))\n",
    "         \n",
    "    sep_data[\"lon\"] *=u.deg\n",
    "    sep_data[\"lat\"] *=u.deg\n",
    "    sep_data[\"sep\"] *=u.deg\n",
    "    return pd.DataFrame.from_dict(sep_data)\n",
    "        "
   ]
  },
  {
   "cell_type": "code",
   "execution_count": 5,
   "id": "34ecd0e9",
   "metadata": {},
   "outputs": [
    {
     "data": {
      "text/plain": [
       "<SkyCoord (Galactic): (l, b) in deg\n",
       "    (249.783022, -47.4539962)>"
      ]
     },
     "execution_count": 5,
     "metadata": {},
     "output_type": "execute_result"
    }
   ],
   "source": [
    "lon=np.array([248,235.2,240,257.1,237.4,266.2,261.3])\n",
    "lat=np.array([-49.2,-49.1,-48.6,-48.4,-48.2,-44.4,-40.2])\n",
    "unit=u.deg\n",
    "equinox=\"J2000\"\n",
    "frame=\"galactic\"\n",
    "wcoord = SkyCoord(lon,lat,unit=unit,frame=frame,equinox=equinox)\n",
    "cent = get_centroid(wcoord,frame=frame,equinox=equinox,unit=unit,max_itr=10)\n",
    "cent"
   ]
  },
  {
   "cell_type": "code",
   "execution_count": 6,
   "id": "806f344d",
   "metadata": {},
   "outputs": [
    {
     "data": {
      "text/html": [
       "<div>\n",
       "<style scoped>\n",
       "    .dataframe tbody tr th:only-of-type {\n",
       "        vertical-align: middle;\n",
       "    }\n",
       "\n",
       "    .dataframe tbody tr th {\n",
       "        vertical-align: top;\n",
       "    }\n",
       "\n",
       "    .dataframe thead th {\n",
       "        text-align: right;\n",
       "    }\n",
       "</style>\n",
       "<table border=\"1\" class=\"dataframe\">\n",
       "  <thead>\n",
       "    <tr style=\"text-align: right;\">\n",
       "      <th></th>\n",
       "      <th>lon</th>\n",
       "      <th>lat</th>\n",
       "      <th>sep</th>\n",
       "    </tr>\n",
       "  </thead>\n",
       "  <tbody>\n",
       "    <tr>\n",
       "      <th>0</th>\n",
       "      <td>248.0</td>\n",
       "      <td>-49.2</td>\n",
       "      <td>2.110294</td>\n",
       "    </tr>\n",
       "    <tr>\n",
       "      <th>1</th>\n",
       "      <td>235.2</td>\n",
       "      <td>-49.1</td>\n",
       "      <td>9.828033</td>\n",
       "    </tr>\n",
       "    <tr>\n",
       "      <th>2</th>\n",
       "      <td>240.0</td>\n",
       "      <td>-48.6</td>\n",
       "      <td>6.637463</td>\n",
       "    </tr>\n",
       "    <tr>\n",
       "      <th>3</th>\n",
       "      <td>257.1</td>\n",
       "      <td>-48.4</td>\n",
       "      <td>4.991308</td>\n",
       "    </tr>\n",
       "    <tr>\n",
       "      <th>4</th>\n",
       "      <td>237.4</td>\n",
       "      <td>-48.2</td>\n",
       "      <td>8.337871</td>\n",
       "    </tr>\n",
       "    <tr>\n",
       "      <th>5</th>\n",
       "      <td>266.2</td>\n",
       "      <td>-44.4</td>\n",
       "      <td>11.795524</td>\n",
       "    </tr>\n",
       "    <tr>\n",
       "      <th>6</th>\n",
       "      <td>261.3</td>\n",
       "      <td>-40.2</td>\n",
       "      <td>11.008933</td>\n",
       "    </tr>\n",
       "  </tbody>\n",
       "</table>\n",
       "</div>"
      ],
      "text/plain": [
       "     lon   lat        sep\n",
       "0  248.0 -49.2   2.110294\n",
       "1  235.2 -49.1   9.828033\n",
       "2  240.0 -48.6   6.637463\n",
       "3  257.1 -48.4   4.991308\n",
       "4  237.4 -48.2   8.337871\n",
       "5  266.2 -44.4  11.795524\n",
       "6  261.3 -40.2  11.008933"
      ]
     },
     "execution_count": 6,
     "metadata": {},
     "output_type": "execute_result"
    }
   ],
   "source": [
    "ang_sep(wcoord,cent)"
   ]
  },
  {
   "cell_type": "code",
   "execution_count": 7,
   "id": "cbfe572e",
   "metadata": {},
   "outputs": [
    {
     "data": {
      "text/plain": [
       "<SkyCoord (Galactic): (l, b) in deg\n",
       "    (310.90915972, 36.85002937)>"
      ]
     },
     "execution_count": 7,
     "metadata": {},
     "output_type": "execute_result"
    }
   ],
   "source": [
    "lon=np.array([314.7,314.5,309.5,304.3])\n",
    "lat=np.array([32.8,35.3,38.3,40.7])\n",
    "unit=u.deg\n",
    "equinox=\"J2000\"\n",
    "frame=\"galactic\"\n",
    "wcoord = SkyCoord(lon,lat,unit=unit,frame=frame,equinox=equinox)\n",
    "cent = get_centroid(wcoord,frame=frame,equinox=equinox,unit=unit,max_itr=10)\n",
    "cent"
   ]
  },
  {
   "cell_type": "code",
   "execution_count": 8,
   "id": "f19a9602",
   "metadata": {},
   "outputs": [
    {
     "data": {
      "text/html": [
       "<div>\n",
       "<style scoped>\n",
       "    .dataframe tbody tr th:only-of-type {\n",
       "        vertical-align: middle;\n",
       "    }\n",
       "\n",
       "    .dataframe tbody tr th {\n",
       "        vertical-align: top;\n",
       "    }\n",
       "\n",
       "    .dataframe thead th {\n",
       "        text-align: right;\n",
       "    }\n",
       "</style>\n",
       "<table border=\"1\" class=\"dataframe\">\n",
       "  <thead>\n",
       "    <tr style=\"text-align: right;\">\n",
       "      <th></th>\n",
       "      <th>lon</th>\n",
       "      <th>lat</th>\n",
       "      <th>sep</th>\n",
       "    </tr>\n",
       "  </thead>\n",
       "  <tbody>\n",
       "    <tr>\n",
       "      <th>0</th>\n",
       "      <td>314.7</td>\n",
       "      <td>32.8</td>\n",
       "      <td>5.106429</td>\n",
       "    </tr>\n",
       "    <tr>\n",
       "      <th>1</th>\n",
       "      <td>314.5</td>\n",
       "      <td>35.3</td>\n",
       "      <td>3.289918</td>\n",
       "    </tr>\n",
       "    <tr>\n",
       "      <th>2</th>\n",
       "      <td>309.5</td>\n",
       "      <td>38.3</td>\n",
       "      <td>1.830173</td>\n",
       "    </tr>\n",
       "    <tr>\n",
       "      <th>3</th>\n",
       "      <td>304.3</td>\n",
       "      <td>40.7</td>\n",
       "      <td>6.428873</td>\n",
       "    </tr>\n",
       "  </tbody>\n",
       "</table>\n",
       "</div>"
      ],
      "text/plain": [
       "     lon   lat       sep\n",
       "0  314.7  32.8  5.106429\n",
       "1  314.5  35.3  3.289918\n",
       "2  309.5  38.3  1.830173\n",
       "3  304.3  40.7  6.428873"
      ]
     },
     "execution_count": 8,
     "metadata": {},
     "output_type": "execute_result"
    }
   ],
   "source": [
    "ang_sep(wcoord,cent)"
   ]
  },
  {
   "cell_type": "code",
   "execution_count": 9,
   "id": "361dd69e",
   "metadata": {},
   "outputs": [
    {
     "name": "stdout",
     "output_type": "stream",
     "text": [
      "<SkyCoord (Galactic): (l, b) in deg\n",
      "    (271.18906616, 75.12232267)>\n"
     ]
    },
    {
     "data": {
      "text/html": [
       "<div>\n",
       "<style scoped>\n",
       "    .dataframe tbody tr th:only-of-type {\n",
       "        vertical-align: middle;\n",
       "    }\n",
       "\n",
       "    .dataframe tbody tr th {\n",
       "        vertical-align: top;\n",
       "    }\n",
       "\n",
       "    .dataframe thead th {\n",
       "        text-align: right;\n",
       "    }\n",
       "</style>\n",
       "<table border=\"1\" class=\"dataframe\">\n",
       "  <thead>\n",
       "    <tr style=\"text-align: right;\">\n",
       "      <th></th>\n",
       "      <th>lon</th>\n",
       "      <th>lat</th>\n",
       "      <th>sep</th>\n",
       "    </tr>\n",
       "  </thead>\n",
       "  <tbody>\n",
       "    <tr>\n",
       "      <th>0</th>\n",
       "      <td>284.3</td>\n",
       "      <td>76.4</td>\n",
       "      <td>3.459616</td>\n",
       "    </tr>\n",
       "    <tr>\n",
       "      <th>1</th>\n",
       "      <td>285.5</td>\n",
       "      <td>75.0</td>\n",
       "      <td>3.682237</td>\n",
       "    </tr>\n",
       "    <tr>\n",
       "      <th>2</th>\n",
       "      <td>250.1</td>\n",
       "      <td>76.3</td>\n",
       "      <td>5.305474</td>\n",
       "    </tr>\n",
       "    <tr>\n",
       "      <th>3</th>\n",
       "      <td>283.3</td>\n",
       "      <td>71.6</td>\n",
       "      <td>4.925528</td>\n",
       "    </tr>\n",
       "    <tr>\n",
       "      <th>4</th>\n",
       "      <td>251.2</td>\n",
       "      <td>73.3</td>\n",
       "      <td>5.703509</td>\n",
       "    </tr>\n",
       "  </tbody>\n",
       "</table>\n",
       "</div>"
      ],
      "text/plain": [
       "     lon   lat       sep\n",
       "0  284.3  76.4  3.459616\n",
       "1  285.5  75.0  3.682237\n",
       "2  250.1  76.3  5.305474\n",
       "3  283.3  71.6  4.925528\n",
       "4  251.2  73.3  5.703509"
      ]
     },
     "execution_count": 9,
     "metadata": {},
     "output_type": "execute_result"
    }
   ],
   "source": [
    "lon=np.array([284.3,285.5,250.1,283.3,251.2])\n",
    "lat=np.array([76.4,75,76.3,71.6,73.3])\n",
    "unit=u.deg\n",
    "equinox=\"J2000\"\n",
    "frame=\"galactic\"\n",
    "wcoord = SkyCoord(lon,lat,unit=unit,frame=frame,equinox=equinox)\n",
    "cent = get_centroid(wcoord,frame=frame,equinox=equinox,unit=unit,max_itr=10)\n",
    "print(cent)\n",
    "ang_sep(wcoord,cent)"
   ]
  },
  {
   "cell_type": "code",
   "execution_count": null,
   "id": "3ee27ea6",
   "metadata": {},
   "outputs": [],
   "source": []
  },
  {
   "cell_type": "code",
   "execution_count": null,
   "id": "a6f24986",
   "metadata": {},
   "outputs": [],
   "source": []
  }
 ],
 "metadata": {
  "kernelspec": {
   "display_name": "Python 3 (ipykernel)",
   "language": "python",
   "name": "python3"
  },
  "language_info": {
   "codemirror_mode": {
    "name": "ipython",
    "version": 3
   },
   "file_extension": ".py",
   "mimetype": "text/x-python",
   "name": "python",
   "nbconvert_exporter": "python",
   "pygments_lexer": "ipython3",
   "version": "3.10.7"
  }
 },
 "nbformat": 4,
 "nbformat_minor": 5
}

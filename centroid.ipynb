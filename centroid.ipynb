{
 "cells": [
  {
   "cell_type": "code",
   "execution_count": 1,
   "id": "3f7f550c",
   "metadata": {},
   "outputs": [],
   "source": [
    "import numpy as np\n",
    "import pandas as pd\n",
    "from numpy import sqrt,arctan,arccos,arcsin,sin,cos,tan,mod,pi,mean"
   ]
  },
  {
   "cell_type": "code",
   "execution_count": 2,
   "id": "8f204061",
   "metadata": {},
   "outputs": [],
   "source": [
    "def deg2rad(x):\n",
    "    return x*pi/180\n",
    "def rad2deg(x):\n",
    "    return x*180/pi\n",
    "\n",
    "# Wrap angle between (-180,+180)\n",
    "def wrap_angle(theta):\n",
    "    angle = deg2rad(theta)\n",
    "    angle = mod(angle,2*pi)\n",
    "    if angle > pi:\n",
    "        angle = angle - 2*pi\n",
    "    return rad2deg(angle)\n",
    "\n",
    "# Unwrap angle to (0,360)\n",
    "def unwrap_angle(theta):\n",
    "    angle = deg2rad(theta)\n",
    "    if angle < 0.:\n",
    "        angle = pi - angle\n",
    "    return rad2deg(angle)"
   ]
  },
  {
   "cell_type": "code",
   "execution_count": 3,
   "id": "04cfc022",
   "metadata": {},
   "outputs": [],
   "source": [
    "def get_cart(lon,lat,r=1):\n",
    "#    if lat<-90 or lat>+90:\n",
    "#        raise Exception(\"-90 <= latitude <= +90\")\n",
    "    phi = pi/2.-deg2rad(float(lat))\n",
    "    theta = deg2rad(wrap_angle(float(lon)))\n",
    "    x = r*sin(phi)*cos(theta)\n",
    "    y = r*sin(phi)*sin(theta)\n",
    "    z = r*cos(phi)\n",
    "    return (x,y,z)\n",
    "\n",
    "def get_sph(x,y,z):\n",
    "    r = sqrt(x*x+y*y+z*z)\n",
    "    phi = arccos(z/r)\n",
    "    theta = arcsin(y/r/sin(phi))\n",
    "    lon = unwrap_angle(rad2deg(theta))\n",
    "    lat = rad2deg(pi/2.-phi)\n",
    "    if lat > 90.:\n",
    "        lat = lat-180.\n",
    "    return (r,lon,lat)\n",
    "    "
   ]
  },
  {
   "cell_type": "code",
   "execution_count": 4,
   "id": "d36942dc",
   "metadata": {},
   "outputs": [],
   "source": [
    "def get_centeroid(arr):\n",
    "    npts = 0\n",
    "    xc,yc,zc = 0.,0.,0.\n",
    "    for i in range(0,len(arr)):\n",
    "        cart = get_cart(arr[\"GL\"][i],arr['GB'][i],r=arr['r'][i])\n",
    "        xc += cart[0]\n",
    "        yc += cart[1]\n",
    "        zc += cart[2]\n",
    "        npts+=1\n",
    "    out = get_sph(xc/npts,yc/npts,zc/npts) \n",
    "    return out"
   ]
  },
  {
   "cell_type": "code",
   "execution_count": 5,
   "id": "c1c3dd5f",
   "metadata": {},
   "outputs": [],
   "source": [
    "def get_dist(P1,P2):\n",
    "    (x1,y1,z1) = get_cart(P1[\"GL\"],P1[\"GB\"],P1[\"r\"])\n",
    "    (x2,y2,z2) = get_cart(P2[\"GL\"],P2[\"GB\"],P2[\"r\"])\n",
    "    dist = sqrt((x2-x1)**2+(y2-y1)**2+(z2-z1)**2)\n",
    "    return rad2deg(dist)"
   ]
  },
  {
   "cell_type": "code",
   "execution_count": 6,
   "id": "466d16b8",
   "metadata": {
    "scrolled": true
   },
   "outputs": [
    {
     "name": "stdout",
     "output_type": "stream",
     "text": [
      "   index     GL    GB  r\n",
      "0      0  248.0 -49.2  1\n",
      "1      1  235.2 -49.1  1\n",
      "2      2  240.0 -48.6  1\n",
      "3      3  257.1 -48.4  1\n",
      "4      4  237.4 -48.2  1\n",
      "5      5  266.2 -44.4  1\n",
      "6      6  261.3 -40.2  1\n",
      "centeroid (0.9891518159813015, 249.7646203207101, -47.45592677277548)\n"
     ]
    }
   ],
   "source": [
    "gal = {\"GL\":[248,235.2,240,257.1,237.4,266.2,261.3],\n",
    "       \"GB\":[-49.2,-49.1,-48.6,-48.4,-48.2,-44.4,-40.2],\n",
    "       \"r\":[1,1,1,1,1,1,1]}\n",
    "arr = pd.DataFrame.from_dict(gal)\n",
    "df = arr.copy().reset_index()\n",
    "print(df)\n",
    "cent = get_centeroid(df)\n",
    "print(f\"centeroid {cent}\")"
   ]
  },
  {
   "cell_type": "code",
   "execution_count": 10,
   "id": "a700e656",
   "metadata": {},
   "outputs": [],
   "source": [
    "C = pd.DataFrame.from_dict([{\"GL\":cent[1],\"GB\":cent[2],\"r\":cent[0]}])\n",
    "df1 = arr.copy().reset_index()\n",
    "df1[\"dist\"]=[0,0,0,0,0,0,0]"
   ]
  },
  {
   "cell_type": "code",
   "execution_count": 28,
   "id": "ad75e35b",
   "metadata": {},
   "outputs": [],
   "source": [
    "for i in range(len(df1)):\n",
    "    P = df1.iloc[[i]]\n",
    "    P = P.copy().reset_index()\n",
    "    dist = get_dist(P,C)\n",
    "    df1.loc[[i],\"dist\"] = [dist]"
   ]
  },
  {
   "cell_type": "code",
   "execution_count": 29,
   "id": "41f723f8",
   "metadata": {},
   "outputs": [
    {
     "data": {
      "text/html": [
       "<div>\n",
       "<style scoped>\n",
       "    .dataframe tbody tr th:only-of-type {\n",
       "        vertical-align: middle;\n",
       "    }\n",
       "\n",
       "    .dataframe tbody tr th {\n",
       "        vertical-align: top;\n",
       "    }\n",
       "\n",
       "    .dataframe thead th {\n",
       "        text-align: right;\n",
       "    }\n",
       "</style>\n",
       "<table border=\"1\" class=\"dataframe\">\n",
       "  <thead>\n",
       "    <tr style=\"text-align: right;\">\n",
       "      <th></th>\n",
       "      <th>index</th>\n",
       "      <th>GL</th>\n",
       "      <th>GB</th>\n",
       "      <th>r</th>\n",
       "      <th>dist</th>\n",
       "    </tr>\n",
       "  </thead>\n",
       "  <tbody>\n",
       "    <tr>\n",
       "      <th>0</th>\n",
       "      <td>0</td>\n",
       "      <td>248.0</td>\n",
       "      <td>-49.2</td>\n",
       "      <td>1</td>\n",
       "      <td>2.180739</td>\n",
       "    </tr>\n",
       "    <tr>\n",
       "      <th>1</th>\n",
       "      <td>1</td>\n",
       "      <td>235.2</td>\n",
       "      <td>-49.1</td>\n",
       "      <td>1</td>\n",
       "      <td>9.769989</td>\n",
       "    </tr>\n",
       "    <tr>\n",
       "      <th>2</th>\n",
       "      <td>2</td>\n",
       "      <td>240.0</td>\n",
       "      <td>-48.6</td>\n",
       "      <td>1</td>\n",
       "      <td>6.614480</td>\n",
       "    </tr>\n",
       "    <tr>\n",
       "      <th>3</th>\n",
       "      <td>3</td>\n",
       "      <td>257.1</td>\n",
       "      <td>-48.4</td>\n",
       "      <td>1</td>\n",
       "      <td>5.012840</td>\n",
       "    </tr>\n",
       "    <tr>\n",
       "      <th>4</th>\n",
       "      <td>4</td>\n",
       "      <td>237.4</td>\n",
       "      <td>-48.2</td>\n",
       "      <td>1</td>\n",
       "      <td>8.296035</td>\n",
       "    </tr>\n",
       "    <tr>\n",
       "      <th>5</th>\n",
       "      <td>5</td>\n",
       "      <td>266.2</td>\n",
       "      <td>-44.4</td>\n",
       "      <td>1</td>\n",
       "      <td>11.739586</td>\n",
       "    </tr>\n",
       "    <tr>\n",
       "      <th>6</th>\n",
       "      <td>6</td>\n",
       "      <td>261.3</td>\n",
       "      <td>-40.2</td>\n",
       "      <td>1</td>\n",
       "      <td>10.960849</td>\n",
       "    </tr>\n",
       "  </tbody>\n",
       "</table>\n",
       "</div>"
      ],
      "text/plain": [
       "   index     GL    GB  r       dist\n",
       "0      0  248.0 -49.2  1   2.180739\n",
       "1      1  235.2 -49.1  1   9.769989\n",
       "2      2  240.0 -48.6  1   6.614480\n",
       "3      3  257.1 -48.4  1   5.012840\n",
       "4      4  237.4 -48.2  1   8.296035\n",
       "5      5  266.2 -44.4  1  11.739586\n",
       "6      6  261.3 -40.2  1  10.960849"
      ]
     },
     "execution_count": 29,
     "metadata": {},
     "output_type": "execute_result"
    }
   ],
   "source": [
    "df1"
   ]
  },
  {
   "cell_type": "code",
   "execution_count": 36,
   "id": "376b1592",
   "metadata": {},
   "outputs": [
    {
     "name": "stdout",
     "output_type": "stream",
     "text": [
      "14\n"
     ]
    }
   ],
   "source": [
    "max_dist = max(df1.dist)\n",
    "base = round(7.)\n",
    "dist_round = base*round(max_dist/base)\n",
    "if dist_round < max_dist:\n",
    "    dist_round+=base\n",
    "print(dist_round)"
   ]
  },
  {
   "cell_type": "code",
   "execution_count": null,
   "id": "831af2b5",
   "metadata": {},
   "outputs": [],
   "source": []
  }
 ],
 "metadata": {
  "kernelspec": {
   "display_name": "Python 3 (ipykernel)",
   "language": "python",
   "name": "python3"
  },
  "language_info": {
   "codemirror_mode": {
    "name": "ipython",
    "version": 3
   },
   "file_extension": ".py",
   "mimetype": "text/x-python",
   "name": "python",
   "nbconvert_exporter": "python",
   "pygments_lexer": "ipython3",
   "version": "3.10.7"
  }
 },
 "nbformat": 4,
 "nbformat_minor": 5
}
